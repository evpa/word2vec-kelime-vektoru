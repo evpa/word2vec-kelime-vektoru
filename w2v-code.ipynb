{
 "cells": [
  {
   "cell_type": "markdown",
   "metadata": {},
   "source": [
    "# Gensim ile word2vec\n",
    "\n",
    "Bu notbookta bir gözetimsiz öğrenme yöntemi olan word2vec kullanarak metindeki kelimelerden kelime vektörleri üreteceğiz. Makine öğreniminde yazılarla uğraşırken bilgisayar yazıları anlayamayacağı için yazıları sayılarla ifade etmemiz gerekir. Bunun bir yöntemi ise metindeki kelimeleri vektörel olarak ifade etmektir. Kelimeleri vektörlere çevirerek anlamsal olarak birbirine yakın olan kelimeleri belirtebiliriz. Bunu ise word2vec kullanarak yapabiliriz. Word2vec ile bir kelimenin kenarında bulunabilecek diğer kelimeleri tahmin ederek vektörler eğitiyoruz. Bu şekilde iki kelime birbirine ne kadar yakın vektörel olarak görebiliyoruz. Word2vec eğitmenin iki yöntemi vardır: Skip-gram ve CBOW. \n",
    "\n",
    "Skip-gram'de ortadaki kelimeden yola çıkarak kenarında bulunan kelimeleri tahmin ederiz. CBOW'da ise kenardaki kelimelerden yola çıkarak ortada bulunan kelimeyi tahmin ederiz. Aşağıdaki diyagramda da göreceğiniz üzere metnin başından başlayarak sonuna kadar tek tek her kelimenin üzerinden geçeriz. Her kelime için kendimiz belirlediğimiz bir pencere boyutu içerisinde kelime vektörlerimizi eğitiriz. Aşağıdaki örnekte pencere boyutu ikidir."
   ]
  },
  {
   "cell_type": "markdown",
   "metadata": {},
   "source": [
    "![Flowchart](images/training.png)"
   ]
  },
  {
   "cell_type": "code",
   "execution_count": 1,
   "metadata": {},
   "outputs": [
    {
     "name": "stderr",
     "output_type": "stream",
     "text": [
      "C:\\Users\\Maynard\\Anaconda3\\lib\\site-packages\\gensim\\utils.py:1209: UserWarning: detected Windows; aliasing chunkize to chunkize_serial\n",
      "  warnings.warn(\"detected Windows; aliasing chunkize to chunkize_serial\")\n"
     ]
    }
   ],
   "source": [
    "import numpy as np\n",
    "from gensim.models import Word2Vec\n",
    "from sklearn.manifold import TSNE\n",
    "import matplotlib.pyplot as plt"
   ]
  },
  {
   "cell_type": "markdown",
   "metadata": {},
   "source": [
    "Dataset olarak Hürriyet gazetesinden toplanmış yazıları kullanacağız."
   ]
  },
  {
   "cell_type": "code",
   "execution_count": 4,
   "metadata": {},
   "outputs": [],
   "source": [
    "f = open('hurriyet.txt', 'r', encoding='utf8')\n",
    "text = f.read()\n",
    "t_list = text.split('\\n')\n",
    "\n",
    "corpus = []\n",
    "\n",
    "for cumle in t_list:\n",
    "    corpus.append(cumle.split())"
   ]
  },
  {
   "cell_type": "markdown",
   "metadata": {},
   "source": [
    "Örnek kelimelerimiz."
   ]
  },
  {
   "cell_type": "code",
   "execution_count": 5,
   "metadata": {
    "scrolled": true
   },
   "outputs": [
    {
     "name": "stdout",
     "output_type": "stream",
     "text": [
      "[['iran', 'devlet', 'televizyonu', 'ülkedeki', 'eyaletin', 'sinde', 'yapılan', 'reformcuları', 'protesto', 'amaçlı', 'yürüyüşlere', 'milyonlarca', 'kişinin', 'katıldığını', 'bildirdi'], ['gösterilerde', 'fitnecilere', 'ölüm', 'münafıklara', 'ölüm', 'abd', 'ye', 'ölüm', 'ingiltere', 'ye', 'ölüm', 'sloganları', 'atıldı'], ['dini', 'lider', 'ali', 'hamaney', 've', 'cumhurbaşkanı', 'mahmud', 'ahmedinejad', 'ı', 'destekleyen', 'iranlılar', 'son', 'olaylarda', 'yeğeni', 'öldürülen', 'mir', 'hüseyin', 'musevi', 'başta', 'olmak', 'üzere', 'muhalefet', 'liderlerini', 'kınadılar'], ['musevi', 'ye', 'ölüm', 've', 'idam', 'idam', 'sloganları', 'duyuldu'], ['muhalefet', 'liderleri', 'kaçtı', 'mı', 'aşure', 'günü', 'yaşanan', 'çatışmalarda', 'devlet', 'kaynaklarına', 'göre', 'u', 'terörist', 'olmak', 'üzere', 'kişi', 'ölmüştü'], ['den', 'fazla', 'kişinin', 'yaralandığı', 'olaylar', 'sırasında', 'en', 'az', 'kişi', 'tutuklanmıştı'], ['öte', 'yandan', 'iran', 'haber', 'ajansı', 'irna', 'muhalif', 'liderler', 'mir', 'hüseyin', 'musevi', 've', 'mehdi', 'kerrubi', 'nin', 'başkentten', 'kaçarak', 'ülkenin', 'kuzeyine', 'geçtiğini', 'ileri', 'sürdü', 'ancak', 'muhalefet', 'iddiayı', 'yalanladı'], ['hamaney', 'in', 'bir', 'dönem', 'korumalığını', 'yapan', 've', 'şu', 'anda', 'fransa', 'da', 'saklandığı', 'söylenen', 'bir', 'kişinin', 'muhalefete', 'verdiği', 'bilgilere', 'göre', 'münzevi', 'yaşamı', 'na', 'rağmen', 'dini', 'liderin', 'havyara', 'karşı', 'korkunç', 'bir', 'iştahı', 'var'], ['baston', 've', 'at', 'meraklısı', 'hamaney', 'aynı', 'zamanda', 'değerli', 'mücevherlerle', 'bezenmiş', 'bastonların', 've', 'cins', 'atların', 'koleksiyonunu', 'yapıyor'], ['hamaney', 'in', 'antika', 'bastonlarının', 'sayısı']]\n"
     ]
    }
   ],
   "source": [
    "print(corpus[:10])"
   ]
  },
  {
   "cell_type": "markdown",
   "metadata": {},
   "source": [
    "size parametresine 100 vererek 100 uzunluğunda vektörler oluşturuyoruz. Pencere büyüklüğü olarak 5 aldık. Yani ortadaki kelimenin solundan ve sağından 5 kelime dikkate alınacak. min_count parametresi ile dataset içerisinde en az 5 defa geçen kelimeleri eğitime dahil ediyoruz. Eğer bir kelime 5 defadan az geçmişse yok sayıyoruz. sg parametresi ile ise skip-gram ile eğitim yapılacağını belirtiyoruz. sg=0 diyerek CBOW ile eğitim yapılacağını belirtebiliriz."
   ]
  },
  {
   "cell_type": "code",
   "execution_count": 6,
   "metadata": {},
   "outputs": [],
   "source": [
    "model = Word2Vec(corpus, size=100, window=5, min_count=5, sg=1)"
   ]
  },
  {
   "cell_type": "markdown",
   "metadata": {},
   "source": [
    "Eğitim tamamlandıktan sonra örnek olarak 'ankara' vektörüne bakabiliriz. Gördüğünüz üzere 100 uzunluğunda bir vektör elde ettik."
   ]
  },
  {
   "cell_type": "code",
   "execution_count": 7,
   "metadata": {},
   "outputs": [
    {
     "data": {
      "text/plain": [
       "array([ 7.06754863e-01,  2.78742015e-01,  2.68501043e-01,  7.72034600e-02,\n",
       "       -1.39506891e-01, -1.68174282e-01,  1.93232641e-01,  4.96655732e-01,\n",
       "        3.13000262e-01, -3.03346246e-01, -4.31172252e-01,  3.15150231e-01,\n",
       "        4.50512990e-02,  1.80428788e-01,  1.92628533e-01, -1.24186508e-01,\n",
       "        4.17984538e-02,  3.25287998e-01, -9.72566679e-02, -8.96728262e-02,\n",
       "       -4.58110541e-01, -4.61821169e-01, -6.12698905e-02,  7.97502220e-01,\n",
       "        4.34923172e-01, -3.53818506e-01, -2.19137892e-01,  3.02816391e-01,\n",
       "       -5.88723004e-01,  2.91949004e-01,  8.40473827e-03, -1.56447098e-01,\n",
       "       -3.40690315e-01, -3.75522161e-03,  9.94523019e-02,  2.73660928e-01,\n",
       "        1.11076832e-01, -5.44831753e-01, -3.28076899e-01, -3.54015470e-01,\n",
       "        5.31388938e-01, -4.49301511e-01, -2.27230683e-01,  1.45157814e-01,\n",
       "       -6.44167960e-01,  3.50564986e-01, -3.81239015e-03, -4.67080474e-01,\n",
       "        1.77499707e-04,  3.97506021e-02, -1.10684544e-01,  7.00504661e-01,\n",
       "        5.25684953e-01, -2.07830697e-01,  6.54636562e-01,  5.78090191e-01,\n",
       "        7.26422310e-01,  6.64912984e-02, -8.18724334e-01,  2.42155284e-01,\n",
       "       -2.90845484e-01, -1.41356707e-01,  3.43513995e-01,  1.22984663e-01,\n",
       "       -4.06833328e-02, -5.86895466e-01, -1.29295468e-01,  1.15531869e-01,\n",
       "       -5.76830879e-02, -1.94473967e-01, -4.98871319e-02, -2.07025707e-01,\n",
       "        4.38279025e-02,  4.78068978e-01, -5.75740859e-02,  2.12586254e-01,\n",
       "       -2.38667086e-01, -4.71305668e-01,  2.10942850e-02, -4.67850864e-01,\n",
       "       -1.88767731e-01,  7.99172819e-02,  1.84776828e-01, -5.29350191e-02,\n",
       "       -2.17267469e-01, -4.74199057e-01,  4.68228161e-01, -1.56156376e-01,\n",
       "       -4.85161930e-01, -9.37160254e-02,  1.69302613e-01, -3.96667629e-01,\n",
       "        1.03095151e-01,  3.07295293e-01,  2.96204954e-01, -3.26032847e-01,\n",
       "        1.46449298e-01, -4.27405655e-01,  4.87985045e-01, -5.75191259e-01],\n",
       "      dtype=float32)"
      ]
     },
     "execution_count": 7,
     "metadata": {},
     "output_type": "execute_result"
    }
   ],
   "source": [
    "model.wv['ankara']"
   ]
  },
  {
   "cell_type": "markdown",
   "metadata": {},
   "source": [
    "Vektörlerimizin ne kadar başarılı olduğunu test etmek için bir kelimenin vektörüne en yakın diğer vektörlere bakabiliriz. Örnek olarak 'hollanda' vektörüne en yakın diğer vektörler yine farklı ülke isimleri çıkıyor."
   ]
  },
  {
   "cell_type": "code",
   "execution_count": 8,
   "metadata": {},
   "outputs": [
    {
     "name": "stderr",
     "output_type": "stream",
     "text": [
      "C:\\Users\\Maynard\\Anaconda3\\lib\\site-packages\\gensim\\matutils.py:737: FutureWarning: Conversion of the second argument of issubdtype from `int` to `np.signedinteger` is deprecated. In future, it will be treated as `np.int32 == np.dtype(int).type`.\n",
      "  if np.issubdtype(vec.dtype, np.int):\n"
     ]
    },
    {
     "data": {
      "text/plain": [
       "[('avusturya', 0.8289216756820679),\n",
       " ('danimarka', 0.8210851550102234),\n",
       " ('belçika', 0.8141344785690308),\n",
       " ('almanya', 0.7811633348464966),\n",
       " ('kanada', 0.769584059715271),\n",
       " ('ispanya', 0.7377558946609497),\n",
       " ('italya', 0.7254589200019836),\n",
       " ('letonya', 0.7242211103439331),\n",
       " ('avustralya', 0.7228988409042358),\n",
       " ('estonya', 0.7171719074249268)]"
      ]
     },
     "execution_count": 8,
     "metadata": {},
     "output_type": "execute_result"
    }
   ],
   "source": [
    "model.wv.most_similar('hollanda')"
   ]
  },
  {
   "cell_type": "markdown",
   "metadata": {},
   "source": [
    "'pazartesi' vektörüne baktığımızda haftanın diğer günlerini de görebiliriz. Yani modelimiz bu günler arasında bağlantılar kurabilmiş."
   ]
  },
  {
   "cell_type": "code",
   "execution_count": 12,
   "metadata": {},
   "outputs": [
    {
     "name": "stderr",
     "output_type": "stream",
     "text": [
      "C:\\Users\\Maynard\\Anaconda3\\lib\\site-packages\\gensim\\matutils.py:737: FutureWarning: Conversion of the second argument of issubdtype from `int` to `np.signedinteger` is deprecated. In future, it will be treated as `np.int32 == np.dtype(int).type`.\n",
      "  if np.issubdtype(vec.dtype, np.int):\n"
     ]
    },
    {
     "data": {
      "text/plain": [
       "[('perşembe', 0.9120887517929077),\n",
       " ('cumartesi', 0.9075902700424194),\n",
       " ('çarşamba', 0.9031991958618164),\n",
       " ('salı', 0.9006084203720093),\n",
       " ('cuma', 0.8930312395095825),\n",
       " ('günü', 0.8880068063735962),\n",
       " ('akşamı', 0.8377050757408142),\n",
       " ('pazar', 0.8218364715576172),\n",
       " ('sabahı', 0.8065381050109863),\n",
       " ('haftasonu', 0.7567946910858154)]"
      ]
     },
     "execution_count": 12,
     "metadata": {},
     "output_type": "execute_result"
    }
   ],
   "source": [
    "model.wv.most_similar('pazartesi')"
   ]
  },
  {
   "cell_type": "markdown",
   "metadata": {},
   "source": [
    "Modeli save metodu ile kaydedebiliriz."
   ]
  },
  {
   "cell_type": "code",
   "execution_count": 10,
   "metadata": {},
   "outputs": [],
   "source": [
    "model.save('word2vec.model')"
   ]
  },
  {
   "cell_type": "markdown",
   "metadata": {},
   "source": [
    "Kaydettiğimiz modeli yüklemek için load metodunu kullanıyoruz."
   ]
  },
  {
   "cell_type": "code",
   "execution_count": 11,
   "metadata": {},
   "outputs": [],
   "source": [
    "model = Word2Vec.load(\"word2vec.model\")"
   ]
  },
  {
   "cell_type": "markdown",
   "metadata": {},
   "source": [
    "Vektörler arasındaki bağlantıyı daha yakından görebilmek için grafik üzerinde gösterebilirz. Vektörlerimiz 100 boyutlu olduğundan bunu grafiğe yazamayız ancak T-SNE ile iki boyutlu düzlemde vektörleri gösterebiliriz."
   ]
  },
  {
   "cell_type": "code",
   "execution_count": 13,
   "metadata": {},
   "outputs": [],
   "source": [
    "def closestwords_tsneplot(model, word):\n",
    "    \n",
    "    word_vectors = np.empty((0,100))\n",
    "    word_labels = [word]\n",
    "\n",
    "    # yakın kelimeleri al\n",
    "    close_words = model.wv.most_similar(word)\n",
    "    \n",
    "    # en yakın kelimeleri array olarak al\n",
    "    word_vectors = np.append(word_vectors, np.array([model.wv[word]]), axis=0)\n",
    "    for w, _ in close_words:\n",
    "        word_labels.append(w)\n",
    "        word_vectors = np.append(word_vectors, np.array([model.wv[w]]), axis=0)\n",
    "        \n",
    "    # iki boyutlu kordinatı bul\n",
    "    tsne = TSNE(random_state=0)\n",
    "    Y = tsne.fit_transform(word_vectors)\n",
    "    \n",
    "    x_coords = Y[:, 0]\n",
    "    y_coords = Y[:, 1]\n",
    "    \n",
    "    # scatter plot'ta göster\n",
    "    plt.scatter(x_coords, y_coords)\n",
    "\n",
    "    for label, x, y in zip(word_labels, x_coords, y_coords):\n",
    "        plt.annotate(label, xy=(x, y), xytext=(5, -2), textcoords='offset points')\n",
    "    plt.show()"
   ]
  },
  {
   "cell_type": "markdown",
   "metadata": {},
   "source": [
    "Örnek olarak 'berlin' kelimesinin vektörüne baktığımızda berline yakın olan diğer kelimelerin yine farklı Almanya şehirleri olduğunu görebiliriz."
   ]
  },
  {
   "cell_type": "code",
   "execution_count": 14,
   "metadata": {},
   "outputs": [
    {
     "name": "stderr",
     "output_type": "stream",
     "text": [
      "C:\\Users\\Maynard\\Anaconda3\\lib\\site-packages\\gensim\\matutils.py:737: FutureWarning: Conversion of the second argument of issubdtype from `int` to `np.signedinteger` is deprecated. In future, it will be treated as `np.int32 == np.dtype(int).type`.\n",
      "  if np.issubdtype(vec.dtype, np.int):\n"
     ]
    },
    {
     "data": {
      "image/png": "[encoded data removed]",
      "text/plain": [
       "<Figure size 432x288 with 1 Axes>"
      ]
     },
     "metadata": {},
     "output_type": "display_data"
    }
   ],
   "source": [
    "closestwords_tsneplot(model, 'berlin')"
   ]
  },
  {
   "cell_type": "markdown",
   "metadata": {},
   "source": [
    "'temmuz' kelimesinin grafiğine baktığımızda diğer ay isimlerini görüyoruz."
   ]
  },
  {
   "cell_type": "code",
   "execution_count": 64,
   "metadata": {},
   "outputs": [
    {
     "name": "stderr",
     "output_type": "stream",
     "text": [
      "C:\\Users\\Maynard\\Anaconda3\\lib\\site-packages\\gensim\\matutils.py:737: FutureWarning: Conversion of the second argument of issubdtype from `int` to `np.signedinteger` is deprecated. In future, it will be treated as `np.int32 == np.dtype(int).type`.\n",
      "  if np.issubdtype(vec.dtype, np.int):\n"
     ]
    },
    {
     "data": {
      "image/png": "[encoded data removed]",
      "text/plain": [
       "<Figure size 432x288 with 1 Axes>"
      ]
     },
     "metadata": {},
     "output_type": "display_data"
    }
   ],
   "source": [
    "closestwords_tsneplot(model, 'temmuz')"
   ]
  },
  {
   "cell_type": "markdown",
   "metadata": {},
   "source": [
    "'mustafa' kelimesine baktığımızda farklı isimleri görüyoruz."
   ]
  },
  {
   "cell_type": "code",
   "execution_count": 69,
   "metadata": {},
   "outputs": [
    {
     "name": "stderr",
     "output_type": "stream",
     "text": [
      "C:\\Users\\Maynard\\Anaconda3\\lib\\site-packages\\gensim\\matutils.py:737: FutureWarning: Conversion of the second argument of issubdtype from `int` to `np.signedinteger` is deprecated. In future, it will be treated as `np.int32 == np.dtype(int).type`.\n",
      "  if np.issubdtype(vec.dtype, np.int):\n"
     ]
    },
    {
     "data": {
      "image/png": "[encoded data removed]",
      "text/plain": [
       "<Figure size 432x288 with 1 Axes>"
      ]
     },
     "metadata": {},
     "output_type": "display_data"
    }
   ],
   "source": [
    "closestwords_tsneplot(model, 'mustafa')"
   ]
  },
  {
   "cell_type": "markdown",
   "metadata": {},
   "source": [
    "'mu' soru ekine baktığımızda yine farklı ekler görebiliriz."
   ]
  },
  {
   "cell_type": "code",
   "execution_count": 70,
   "metadata": {},
   "outputs": [
    {
     "name": "stderr",
     "output_type": "stream",
     "text": [
      "C:\\Users\\Maynard\\Anaconda3\\lib\\site-packages\\gensim\\matutils.py:737: FutureWarning: Conversion of the second argument of issubdtype from `int` to `np.signedinteger` is deprecated. In future, it will be treated as `np.int32 == np.dtype(int).type`.\n",
      "  if np.issubdtype(vec.dtype, np.int):\n"
     ]
    },
    {
     "data": {
      "image/png": "[encoded data removed]",
      "text/plain": [
       "<Figure size 432x288 with 1 Axes>"
      ]
     },
     "metadata": {},
     "output_type": "display_data"
    }
   ],
   "source": [
    "closestwords_tsneplot(model, 'mu')"
   ]
  },
  {
   "cell_type": "markdown",
   "metadata": {},
   "source": [
    "## Sonuç\n",
    "\n",
    "Sonuç olarak kısmen küçük bir dataset üzerinde bile oldukça başarılı vektörler elde ettik. Daha büyük bir dataset ile çok daha başarılı vektörler elde edebiliriz. "
   ]
  },
  {
   "cell_type": "code",
   "execution_count": null,
   "metadata": {},
   "outputs": [],
   "source": []
  }
 ],
 "metadata": {
  "kernelspec": {
   "display_name": "Python 3",
   "language": "python",
   "name": "python3"
  },
  "language_info": {
   "codemirror_mode": {
    "name": "ipython",
    "version": 3
   },
   "file_extension": ".py",
   "mimetype": "text/x-python",
   "name": "python",
   "nbconvert_exporter": "python",
   "pygments_lexer": "ipython3",
   "version": "3.7.1"
  }
 },
 "nbformat": 4,
 "nbformat_minor": 2
}
